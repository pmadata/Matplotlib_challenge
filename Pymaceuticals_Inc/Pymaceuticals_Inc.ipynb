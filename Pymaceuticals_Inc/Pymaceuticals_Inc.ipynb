{
 "cells": [
  {
   "cell_type": "code",
   "execution_count": null,
   "metadata": {
    "vscode": {
     "languageId": "plaintext"
    }
   },
   "outputs": [],
   "source": [
    "# Pymaceuticals Inc.\n",
    "---\n",
    "\n",
    "### Analysis\n",
    "\n",
    "- This study has been conducted with a close 1:1 ration of male and female mice population. It is important to highlight that there were slightly more observations for Capomulin and Ramicane than the other treatments.\n",
    "- Capomulin & Ramicane both presented lower tumor volume at the end of observation period when compared to the other treatments. Between the two, does not seem to have statistical difference , but further analysis should be done to confirm .\n",
    "- Looking at the Capomulin treatment cohort, it is possible to see a linear relationship between tumor size and times of observation and a strong correlation between the weight of the mouse and the average tumor size for the time of observation. \n"
   ]
  },
  {
   "cell_type": "code",
   "execution_count": null,
   "metadata": {
    "vscode": {
     "languageId": "plaintext"
    }
   },
   "outputs": [],
   "source": [
    "import matplotlib.pyplot as plt\n",
    "import pandas as pd\n",
    "import scipy.stats as st\n",
    "from scipy.stats import linregress\n",
    "\n",
    "# Study data files\n",
    "mouse_metadata_path = \"Data/Mouse_metadata.csv\"\n",
    "study_results_path = \"Data/Study_results.csv\"\n",
    "\n",
    "\n",
    "# Read the mouse data and the study results\n",
    "mouse_metadata = pd.read_csv(mouse_metadata_path)\n",
    "study_results = pd.read_csv(study_results_path)\n",
    "\n",
    "study_results.head()\n",
    "mouse_metadata.head()\n",
    "\n",
    "# Combine the data into a single DataFrame\n",
    "mouse_study_df = pd.merge(mouse_metadata, study_results, how=\"left\", on=[\"Mouse ID\", \"Mouse ID\"])\n",
    "\n",
    "# Display the data table for preview\n",
    "mouse_study_df.head()"
   ]
  },
  {
   "cell_type": "code",
   "execution_count": null,
   "metadata": {
    "vscode": {
     "languageId": "plaintext"
    }
   },
   "outputs": [],
   "source": [
    "# Checking the number of mice.\n",
    "print (mouse_study_df['Mouse ID'].nunique())"
   ]
  },
  {
   "cell_type": "code",
   "execution_count": null,
   "metadata": {
    "vscode": {
     "languageId": "plaintext"
    }
   },
   "outputs": [],
   "source": [
    "# Get the duplicate mice by ID number that shows up for Mouse ID and Timepoint. \n",
    "duplicates_find = mouse_study_df[mouse_study_df.duplicated(subset=[\"Mouse ID\", \"Timepoint\"], keep=False)]\n",
    "print(duplicates_find)"
   ]
  },
  {
   "cell_type": "code",
   "execution_count": null,
   "metadata": {
    "vscode": {
     "languageId": "plaintext"
    }
   },
   "outputs": [],
   "source": [
    "# Create a clean DataFrame by dropping the duplicate mouse by its ID.\n",
    "def filter_rows_by_values(df, column, values):\n",
    "    return df[~df[column].isin(values)]\n",
    "\n",
    "mouse_study_clean = filter_rows_by_values(mouse_study_df, \"Mouse ID\", [\"g989\"])\n",
    "mouse_study_clean"
   ]
  },
  {
   "cell_type": "code",
   "execution_count": null,
   "metadata": {
    "vscode": {
     "languageId": "plaintext"
    }
   },
   "outputs": [],
   "source": [
    "# Checking the number of mice in the clean DataFrame.\n",
    "print (mouse_study_clean['Mouse ID'].nunique())\n"
   ]
  },
  {
   "cell_type": "code",
   "execution_count": null,
   "metadata": {
    "vscode": {
     "languageId": "plaintext"
    }
   },
   "outputs": [],
   "source": [
    "\n",
    "Summary Statistics"
   ]
  },
  {
   "cell_type": "code",
   "execution_count": null,
   "metadata": {
    "vscode": {
     "languageId": "plaintext"
    }
   },
   "outputs": [],
   "source": [
    "stats_sum = mouse_study_clean[[\"Tumor Volume (mm3)\", \"Drug Regimen\"]].groupby(\"Drug Regimen\").agg({\n",
    "    \"Tumor Volume (mm3)\": [\"mean\", \"median\", \"var\", \"std\", \"sem\"]\n",
    "})\n",
    "stats_sum\n",
    "stats_sum.to_csv('output.txt', sep='\\t')"
   ]
  },
  {
   "cell_type": "code",
   "execution_count": null,
   "metadata": {
    "vscode": {
     "languageId": "plaintext"
    }
   },
   "outputs": [],
   "source": [
    "Bar and Pie Charts"
   ]
  },
  {
   "cell_type": "code",
   "execution_count": null,
   "metadata": {
    "vscode": {
     "languageId": "plaintext"
    }
   },
   "outputs": [],
   "source": [
    "# Generate a bar plot showing the total number of rows (Mouse ID/Timepoints) for each drug regimen using Pandas.\n",
    "df_barplot = mouse_study_clean[[\"Drug Regimen\", \"Timepoint\"]].groupby(\"Drug Regimen\").count()\n",
    "df_barplot_sorted = df_barplot.sort_values(\"Timepoint\", ascending=False)\n",
    "\n",
    "df_barplot_sorted.plot.bar(legend=False)\n",
    "plt.xlabel(\"Drug Regimen\")\n",
    "plt.ylabel(\"# of Observed Mouse Timepoints\")\n",
    "plt.title(\"Observed Mouse Timepoints by Drug Regimen\")\n",
    "plt.show()"
   ]
  },
  {
   "cell_type": "code",
   "execution_count": null,
   "metadata": {
    "vscode": {
     "languageId": "plaintext"
    }
   },
   "outputs": [],
   "source": [
    "# Generate a bar plot showing the total number of rows (Mouse ID/Timepoints) for each drug regimen using pyplot.\n",
    "df_barplot = mouse_study_clean[[\"Drug Regimen\", \"Timepoint\"]].groupby(\"Drug Regimen\").count()\n",
    "df_barplot_sorted = df_barplot.sort_values(\"Timepoint\", ascending=False)\n",
    "\n",
    "df_barplot_sorted.plot(kind=\"bar\", legend=False)\n",
    "plt.xlabel(\"Drug Regimen\")\n",
    "plt.ylabel(\"# of Observed Mouse Timepoints\")\n",
    "plt.title(\"Observed Mouse Timepoints by Drug Regimen\")\n",
    "plt.tight_layout()\n",
    "\n",
    "plt.show()\n",
    "\n",
    "#save plot as image\n",
    "plt.savefig(\"observations_drugregimen.png\")"
   ]
  },
  {
   "cell_type": "code",
   "execution_count": null,
   "metadata": {
    "vscode": {
     "languageId": "plaintext"
    }
   },
   "outputs": [],
   "source": [
    "# Generate a pie plot showing the distribution of female versus male mice using Pandas\n",
    "# --- dataset 1: just 4 values for 4 groups:\n",
    "sex_distribution_df = mouse_study_clean[\"Sex\"].value_counts()\n",
    "sex_distribution_df = sex_distribution_df.reindex([\"Male\", \"Female\"]) \n",
    "# make the plot\n",
    "sex_distribution_df.plot(kind='pie', subplots=True, figsize=(6, 6),autopct=\"%1.1f%%\", title=\"Male and Female Distribution\")\n",
    "\n",
    "# show the plot\n",
    "plt.axis(\"equal\")\n",
    "plt.show()\n",
    "\n",
    "#save plot as image\n",
    "plt.savefig(\"male_female_distribution.png\")"
   ]
  },
  {
   "cell_type": "code",
   "execution_count": null,
   "metadata": {
    "vscode": {
     "languageId": "plaintext"
    }
   },
   "outputs": [],
   "source": [
    "# Generate a pie plot showing the distribution of female versus male mice using pyplot\n",
    "sex_distribution_df = mouse_study_clean[\"Sex\"].value_counts()\n",
    "sex_distribution_df = sex_distribution_df.reindex([\"Male\", \"Female\"])\n",
    "\n",
    "# Make the plot\n",
    "plt.pie(sex_distribution_df, labels=sex_distribution_df.index, autopct=\"%1.1f%%\")\n",
    "plt.ylabel(\"Sex\")\n",
    "plt.title(\"Male and Female Distribution\")\n",
    "plt.axis(\"equal\")\n",
    "\n",
    "\n",
    "# Show the plot\n",
    "plt.show()"
   ]
  },
  {
   "cell_type": "code",
   "execution_count": null,
   "metadata": {
    "vscode": {
     "languageId": "plaintext"
    }
   },
   "outputs": [],
   "source": [
    "Quartiles, Outliers and Boxplots¶"
   ]
  },
  {
   "cell_type": "code",
   "execution_count": null,
   "metadata": {
    "vscode": {
     "languageId": "plaintext"
    }
   },
   "outputs": [],
   "source": [
    "# Calculate the final tumor volume of each mouse across four of the treatment regimens:  \n",
    "# Capomulin, Ramicane, Infubinol, and Ceftamin\n",
    "maxtime_treat_mouse = mouse_study_clean.groupby([\"Mouse ID\"])[\"Timepoint\"].max()\n",
    "maxtime_treat_mouse = maxtime_treat_mouse.reset_index()\n",
    "maxtime_treat_mouse\n"
   ]
  },
  {
   "cell_type": "code",
   "execution_count": null,
   "metadata": {
    "vscode": {
     "languageId": "plaintext"
    }
   },
   "outputs": [],
   "source": [
    "maxtime_treat_tumor = pd.merge(maxtime_treat_mouse, mouse_study_clean, how=\"left\", on=[\"Mouse ID\",\"Timepoint\"])\n",
    "maxtime_treat_tumor"
   ]
  },
  {
   "cell_type": "code",
   "execution_count": null,
   "metadata": {
    "vscode": {
     "languageId": "plaintext"
    }
   },
   "outputs": [],
   "source": [
    "#check how many observsastions\n",
    "maxtime_treat_tumor['Mouse ID'].nunique()"
   ]
  },
  {
   "cell_type": "code",
   "execution_count": null,
   "metadata": {
    "vscode": {
     "languageId": "plaintext"
    }
   },
   "outputs": [],
   "source": [
    "# Create empty list to fill with tumor vol data (for plotting)\n",
    "treatments_list = [\"Capomulin\", \"Ramicane\", \"Infubinol\",\"Ceftamin\"]\n",
    "treatments_list\n"
   ]
  },
  {
   "cell_type": "code",
   "execution_count": null,
   "metadata": {
    "vscode": {
     "languageId": "plaintext"
    }
   },
   "outputs": [],
   "source": [
    "tumor_vol_data_list = []\n",
    "\n",
    "for treatment in treatments_list:\n",
    "    tumor_vol_data = maxtime_treat_tumor[maxtime_treat_tumor[\"Drug Regimen\"] == treatment][\"Tumor Volume (mm3)\"]\n",
    "    tumor_vol_data_list.append(tumor_vol_data)\n",
    "\n",
    "    \n",
    "tumor_vol_data_list"
   ]
  },
  {
   "cell_type": "code",
   "execution_count": null,
   "metadata": {
    "vscode": {
     "languageId": "plaintext"
    }
   },
   "outputs": [],
   "source": [
    "# Create the boxplot\n",
    "fig, ax1 = plt.subplots()\n",
    "ax1.set_title(\"Max Tumor Vol by treatment\")\n",
    "ax1.set_ylabel('Tumor Volume mm3')\n",
    "ax1.boxplot(tumor_vol_data_list)\n",
    "ax1.set_xticklabels(treatments_list)\n",
    "plt.show()\n",
    "plt.savefig(\"TumorVolumebyTreatment.png\")"
   ]
  },
  {
   "cell_type": "code",
   "execution_count": null,
   "metadata": {
    "vscode": {
     "languageId": "plaintext"
    }
   },
   "outputs": [],
   "source": [
    "Line and Scatter Plots"
   ]
  },
  {
   "cell_type": "code",
   "execution_count": null,
   "metadata": {
    "vscode": {
     "languageId": "plaintext"
    }
   },
   "outputs": [],
   "source": [
    "# Generate a line plot of tumor volume vs. time point for a single mouse treated with Capomulin\n",
    "mouse_data = mouse_study_clean.loc[mouse_study_clean[\"Mouse ID\"] == \"s185\", [\"Timepoint\", \"Tumor Volume (mm3)\"]]\n",
    "mouse_data\n",
    "\n",
    "time = mouse_data[\"Timepoint\"]\n",
    "tumor_value = mouse_data[\"Tumor Volume (mm3)\"]\n",
    "\n",
    "x_axis = time\n",
    "y_axis = tumor_value\n",
    "\n",
    "plt.plot(x_axis, y_axis)\n",
    "# Show the graph that we have created\n",
    "plt.xlabel(\"timepoint\")\n",
    "plt.ylabel(\"Tumor volume\")\n",
    "plt.title(\"tumor volume vs. time point for Mouse s185 in Capomulin treatment\")\n",
    "plt.show()\n",
    "plt.savefig(\"tumorvolumebytimeinCapomulinmouse.png\")"
   ]
  },
  {
   "cell_type": "code",
   "execution_count": null,
   "metadata": {
    "vscode": {
     "languageId": "plaintext"
    }
   },
   "outputs": [],
   "source": [
    "Scatter plot , Correlation and Regression"
   ]
  },
  {
   "cell_type": "code",
   "execution_count": null,
   "metadata": {
    "vscode": {
     "languageId": "plaintext"
    }
   },
   "outputs": [],
   "source": [
    "# Generate a scatter plot of mouse weight vs. the average observed tumor volume for the entire Capomulin regimen\n",
    "capomulin_mice = mouse_study_clean[mouse_study_clean[\"Drug Regimen\"] == \"Capomulin\"]\n",
    "average_tumor_vol = capomulin_mice.groupby(\"Weight (g)\")[\"Tumor Volume (mm3)\"].mean()\n",
    "\n",
    "x_values = average_tumor_vol.index\n",
    "y_values = average_tumor_vol.values\n",
    "(slope, intercept, rvalue, pvalue, stderr) = linregress(x_values, y_values)\n",
    "regress_values = x_values * slope + intercept\n",
    "line_eq = \"y = \" + str(round(slope,2)) + \"x + \" + str(round(intercept,2))\n",
    "\n",
    "plt.scatter(x_values, y_values, marker=\"o\", facecolors=\"blue\", edgecolors=\"blue\", alpha=0.75)\n",
    "plt.plot(x_values,regress_values,\"r-\")\n",
    "plt.annotate(line_eq,(5.8,0.8),fontsize=15,color=\"red\")\n",
    "plt.xlabel(\"Weight (g)\")\n",
    "plt.ylabel(\"Average Tumor Volume (mm3)\")\n",
    "plt.title(\"Average Tumor Volume vs. Weight for Capomulin Mice\")\n",
    "print(f\"The r-squared is: {rvalue**2}\")\n",
    "plt.show()\n",
    "plt.savefig(\"Avgtumor_weight_regression.png\")\n",
    "correlation = st.pearsonr(x_values,y_values)\n",
    "print(f\"The correlation between both factors is {round(correlation[0],2)}\")"
   ]
  }
 ],
 "metadata": {
  "language_info": {
   "name": "python"
  }
 },
 "nbformat": 4,
 "nbformat_minor": 2
}
